{
 "cells": [
  {
   "cell_type": "markdown",
   "metadata": {},
   "source": [
    "# First run the geolife.py script to generate trajectories"
   ]
  },
  {
   "cell_type": "code",
   "execution_count": 2,
   "metadata": {},
   "outputs": [],
   "source": [
    "#pragma cling add_include_path(\"/usr/src/movetk/tutorials\")"
   ]
  },
  {
   "cell_type": "code",
   "execution_count": 3,
   "metadata": {},
   "outputs": [],
   "source": [
    "#pragma cling add_include_path(\"/usr/local/include\")"
   ]
  },
  {
   "cell_type": "code",
   "execution_count": 4,
   "metadata": {
    "tags": []
   },
   "outputs": [
    {
     "output_type": "stream",
     "name": "stderr",
     "text": "In file included from input_line_15:1:\nIn file included from /usr/local/include/movetk/utils/Geolife.h:21:\nIn file included from /usr/local/include/movetk/io/ProbeReader.h:40:\nIn file included from /miniconda/include/boost/iostreams/copy.hpp:26:\n\u001b[1m/miniconda/include/boost/bind.hpp:36:1: \u001b[0m\u001b[0;1;35mwarning: \u001b[0m\u001b[1mThe practice of declaring the Bind placeholders (_1, _2, ...) in the global namespace is deprecated. Please use\n      &lt;boost/bind/bind.hpp&gt; + using namespace boost::placeholders, or define BOOST_BIND_GLOBAL_PLACEHOLDERS to retain the current\n      behavior. [-W#pragma-messages]\u001b[0m\nBOOST_PRAGMA_MESSAGE(\n\u001b[0;1;32m^\n\u001b[0m\u001b[1m/miniconda/include/boost/config/pragma_message.hpp:24:34: \u001b[0m\u001b[0;1;30mnote: \u001b[0mexpanded from macro &#39;BOOST_PRAGMA_MESSAGE&#39;\u001b[0m\n# define BOOST_PRAGMA_MESSAGE(x) _Pragma(BOOST_STRINGIZE(message(x)))\n\u001b[0;1;32m                                 ^\n\u001b[0m\u001b[1m&lt;scratch space&gt;:7:2: \u001b[0m\u001b[0;1;30mnote: \u001b[0mexpanded from here\u001b[0m\n message(&quot;The practice of declaring the Bind placeholders (_1, _2, ...) &quot; &quot;in the global namespace is deprecated. Please u...\n\u001b[0;1;32m ^\n\u001b[0m"
    }
   ],
   "source": [
    "#include \"movetk/utils/Geolife.h\""
   ]
  },
  {
   "cell_type": "code",
   "execution_count": 5,
   "metadata": {},
   "outputs": [
    {
     "output_type": "stream",
     "text": "http://127.0.0.1/movetk.reference/class_probe_reader.html"
    }
   ],
   "source": [
    "?ProbeReader"
   ]
  },
  {
   "cell_type": "code",
   "execution_count": 6,
   "metadata": {},
   "outputs": [],
   "source": [
    "// Create trajectory reader\n",
    "std::unique_ptr<ProbeReader<ProbeTraits>> probe_reader;"
   ]
  },
  {
   "cell_type": "code",
   "execution_count": 5,
   "metadata": {},
   "outputs": [],
   "source": [
    "std::string fName = \"/usr/src/movetk/tutorials/out/117.csv\";"
   ]
  },
  {
   "cell_type": "code",
   "execution_count": 6,
   "metadata": {},
   "outputs": [],
   "source": [
    "probe_reader = ProbeReaderFactory::create<ProbeTraits>(fName.c_str());"
   ]
  },
  {
   "cell_type": "code",
   "execution_count": 7,
   "metadata": {},
   "outputs": [
    {
     "data": {
      "text/html": [
       "<style>\n",
       "            #pager-container {\n",
       "                padding: 0;\n",
       "                margin: 0;\n",
       "                width: 100%;\n",
       "                height: 100%;\n",
       "            }\n",
       "            .xcpp-iframe-pager {\n",
       "                padding: 0;\n",
       "                margin: 0;\n",
       "                width: 100%;\n",
       "                height: 100%;\n",
       "                border: none;\n",
       "            }\n",
       "            </style>\n",
       "            <iframe class=\"xcpp-iframe-pager\" src=\"http://192.168.99.100/movetk.reference/class_trajectory_reader.html?action=purge\"></iframe>"
      ],
      "text/plain": [
       "http://192.168.99.100/movetk.reference/class_trajectory_reader.html"
      ]
     },
     "metadata": {},
     "output_type": "execute_result"
    }
   ],
   "source": [
    "?TrajectoryReader"
   ]
  },
  {
   "cell_type": "code",
   "execution_count": 8,
   "metadata": {},
   "outputs": [],
   "source": [
    "//type of probe iterator\n",
    "using ProbeInputIterator = decltype(probe_reader->begin());"
   ]
  },
  {
   "cell_type": "code",
   "execution_count": 9,
   "metadata": {},
   "outputs": [],
   "source": [
    "auto trajectory_reader = TrajectoryReader<TrajectoryTraits, ProbeInputIterator>(probe_reader->begin(), probe_reader->end());\n",
    " // Create an output geojson file"
   ]
  },
  {
   "cell_type": "code",
   "execution_count": 10,
   "metadata": {},
   "outputs": [],
   "source": [
    "// std::ofstream ofjson(\"output_trajectories_010.geojson\");\n",
    "// ofjson.setf(std::ios::fixed);"
   ]
  },
  {
   "cell_type": "code",
   "execution_count": 11,
   "metadata": {},
   "outputs": [],
   "source": [
    "std::vector<TrajectoryTraits::trajectory_type> trajectories;\n",
    "for (auto t: trajectory_reader){\n",
    "    trajectories.push_back(t);\n",
    "}"
   ]
  },
  {
   "cell_type": "code",
   "execution_count": 12,
   "metadata": {},
   "outputs": [
    {
     "name": "stdout",
     "output_type": "stream",
     "text": [
      "3\n"
     ]
    }
   ],
   "source": [
    "std::cout<<trajectories.size()<<\"\\n\";"
   ]
  },
  {
   "cell_type": "code",
   "execution_count": 13,
   "metadata": {},
   "outputs": [
    {
     "name": "stdout",
     "output_type": "stream",
     "text": [
      "{\n",
      "    \"features\": [\n",
      "{\n",
      "            \"geometry\": {\n",
      "                \"coordinates\": [\n",
      "[116.333383, 40.00156667],\n",
      "[116.33356667, 39.99948333],\n",
      "[116.33260000, 39.99851667],\n",
      "[116.33176667, 39.99695000],\n",
      "[116.33155000, 39.99213333],\n",
      "[116.33140000, 39.99183333],\n",
      "[116.33180000, 39.98990000],\n",
      "[116.33183333, 39.98856667],\n",
      "[116.33175000, 39.98746667],\n",
      "[116.33188333, 39.98563333],\n",
      "[116.33290000, 39.97956667],\n",
      "[116.33363333, 39.97568333],\n",
      "[116.33365000, 39.97530000],\n",
      "[116.33323333, 39.97538333],\n",
      "[116.33366667, 39.97536667],\n",
      "[116.33286667, 39.97540000],\n",
      "[116.33203333, 39.97543333],\n",
      "[116.33173333, 39.97555000],\n",
      "[116.33155000, 39.97575000],\n",
      "[116.33126667, 39.97576667]\n",
      "               ],\n",
      "                \"type\": \"LineString\"\n",
      "            },\n",
      "            \"properties\": {\n",
      "            },\n",
      "            \"type\": \"Feature\"\n",
      "},\n",
      "{\n",
      "            \"geometry\": {\n",
      "                \"coordinates\": [\n",
      "[116.32776667, 40.07705000],\n",
      "[116.32783333, 40.07675000],\n",
      "[116.32786667, 40.07653333],\n",
      "[116.32793333, 40.07620000],\n",
      "[116.32798333, 40.07591667],\n",
      "[116.32805000, 40.07558333],\n",
      "[116.32810000, 40.07536667],\n",
      "[116.32815000, 40.07503333],\n",
      "[116.32823333, 40.07468333],\n",
      "[116.32825000, 40.07445000],\n",
      "[116.32840000, 40.07386667],\n",
      "[116.32850000, 40.07325000],\n",
      "[116.32855000, 40.07286667],\n",
      "[116.32860000, 40.07251667],\n",
      "[116.32863333, 40.07216667],\n",
      "[116.32866667, 40.07190000],\n",
      "[116.32873333, 40.07163333],\n",
      "[116.32876667, 40.07133333],\n",
      "[116.32881667, 40.07103333],\n",
      "[116.32886667, 40.07065000],\n",
      "[116.32888333, 40.07043333],\n",
      "[116.32893333, 40.07008333],\n",
      "[116.32916667, 40.06991667],\n",
      "[116.32963333, 40.06980000],\n",
      "[116.32961667, 40.06966667],\n",
      "[116.33053333, 40.06953333],\n",
      "[116.33010000, 40.06941667],\n",
      "[116.33015000, 40.06943333],\n",
      "[116.32835000, 40.06975000],\n",
      "[116.32635000, 40.06945000],\n",
      "[116.32480000, 40.06930000],\n",
      "[116.31351667, 40.06950000],\n",
      "[116.30541667, 40.06966667],\n",
      "[116.30196667, 40.07080000],\n",
      "[116.30065000, 40.07088333]\n",
      "               ],\n",
      "                \"type\": \"LineString\"\n",
      "            },\n",
      "            \"properties\": {\n",
      "            },\n",
      "            \"type\": \"Feature\"\n",
      "},\n",
      "{\n",
      "            \"geometry\": {\n",
      "                \"coordinates\": [\n",
      "[116.32966667, 40.06983333],\n",
      "[116.32943333, 40.06986667],\n",
      "[116.32931667, 40.06975000],\n",
      "[116.32908333, 40.06980000],\n",
      "[116.32905000, 40.07033333],\n",
      "[116.32895000, 40.07005000],\n",
      "[116.32896667, 40.07025000],\n",
      "[116.32895000, 40.07040000],\n",
      "[116.32886667, 40.07086667],\n",
      "[116.32883333, 40.07168333],\n",
      "[116.32878333, 40.07190000],\n",
      "[116.32871667, 40.07223333],\n",
      "[116.32868333, 40.07273333],\n",
      "[116.32868333, 40.07291667],\n",
      "[116.32861667, 40.07321667],\n",
      "[116.32855000, 40.07383333],\n",
      "[116.32840000, 40.07436667],\n",
      "[116.32836667, 40.07455000],\n",
      "[116.32830000, 40.07490000],\n",
      "[116.32825000, 40.07523333],\n",
      "[116.32818333, 40.07553333],\n",
      "[116.32810000, 40.07595000],\n",
      "[116.32803333, 40.07631667],\n",
      "[116.32796667, 40.07655000],\n",
      "[116.32793333, 40.07671667],\n",
      "[116.32801667, 40.07688333],\n",
      "[116.32798333, 40.07716667],\n",
      "[116.32836667, 40.07726667],\n",
      "[116.32870000, 40.07730000],\n",
      "[116.32915000, 40.07740000]\n",
      "               ],\n",
      "                \"type\": \"LineString\"\n",
      "            },\n",
      "            \"properties\": {\n",
      "            },\n",
      "            \"type\": \"Feature\"\n",
      "}],\n",
      "    \"type\": \"FeatureCollection\"\n",
      "}\n"
     ]
    }
   ],
   "source": [
    "movetk_io::trajectories_to_geojson<typename std::vector<typename TrajectoryTraits::trajectory_type>::iterator,\n",
    "                                      ProbeTraits::ProbeColumns::LAT,\n",
    "                                      ProbeTraits::ProbeColumns::LON>(std::cout,\n",
    "                                                                      trajectories.begin(),\n",
    "                                                                      std::prev(trajectories.end()));"
   ]
  }
 ],
 "metadata": {
  "kernelspec": {
   "display_name": "C++17",
   "language": "C++17",
   "name": "xcpp17"
  },
  "language_info": {
   "codemirror_mode": "text/x-c++src",
   "file_extension": ".cpp",
   "mimetype": "text/x-c++src",
   "name": "c++",
   "version": "2.7.15-final"
  }
 },
 "nbformat": 4,
 "nbformat_minor": 0
}