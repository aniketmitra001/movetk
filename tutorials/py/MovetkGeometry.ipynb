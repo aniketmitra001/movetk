{
 "metadata": {
  "language_info": {
   "codemirror_mode": {
    "name": "ipython",
    "version": 3
   },
   "file_extension": ".py",
   "mimetype": "text/x-python",
   "name": "python",
   "nbconvert_exporter": "python",
   "pygments_lexer": "ipython3",
   "version": "2.7.15-final"
  },
  "orig_nbformat": 2,
  "kernelspec": {
   "name": "Python 2.7.15 64-bit ('base': conda)",
   "display_name": "Python 2.7.15 64-bit ('base': conda)",
   "metadata": {
    "interpreter": {
     "hash": "98e7af060e033022c1fb57414f219ac79190d8f1896df61e957542096e3a4766"
    }
   }
  }
 },
 "nbformat": 4,
 "nbformat_minor": 2,
 "cells": [
  {
   "cell_type": "code",
   "execution_count": 1,
   "metadata": {},
   "outputs": [],
   "source": [
    "import sys"
   ]
  },
  {
   "cell_type": "code",
   "execution_count": 2,
   "metadata": {},
   "outputs": [],
   "source": [
    "# Substitute the path with correct path where movetk_geometry.so is installed\n",
    "# sys.path.append('~/local/lib')"
   ]
  },
  {
   "cell_type": "code",
   "execution_count": 24,
   "metadata": {
    "tags": []
   },
   "outputs": [],
   "source": [
    "# print(sys.path)"
   ]
  },
  {
   "cell_type": "code",
   "execution_count": 6,
   "metadata": {},
   "outputs": [],
   "source": [
    "import numpy as np"
   ]
  },
  {
   "cell_type": "code",
   "execution_count": 8,
   "metadata": {},
   "outputs": [],
   "source": [
    "import movetk_geometry as mg"
   ]
  },
  {
   "cell_type": "code",
   "execution_count": 19,
   "metadata": {
    "tags": []
   },
   "outputs": [
    {
     "output_type": "stream",
     "name": "stdout",
     "text": "Help on class point in module movetk_geometry:\n\nclass point(pybind11_builtins.pybind11_object)\n |  Method resolution order:\n |      point\n |      pybind11_builtins.pybind11_object\n |      __builtin__.object\n |  \n |  Methods defined here:\n |  \n |  __getitem__(...)\n |      __getitem__(self: movetk_geometry.point, arg0: int) -&gt; float\n |  \n |  __init__(...)\n |      __init__(self: movetk_geometry.point, arg0: numpy.ndarray[longdouble]) -&gt; None\n |  \n |  ----------------------------------------------------------------------\n |  Data and other attributes defined here:\n |  \n |  __qualname__ = &#39;point&#39;\n |  \n |  ----------------------------------------------------------------------\n |  Data and other attributes inherited from pybind11_builtins.pybind11_object:\n |  \n |  __new__ = &lt;built-in method __new__ of pybind11_type object&gt;\n |      T.__new__(S, ...) -&gt; a new object with type S, a subtype of T\n\n"
    }
   ],
   "source": [
    "help(mg.point)"
   ]
  },
  {
   "cell_type": "code",
   "execution_count": 9,
   "metadata": {},
   "outputs": [],
   "source": [
    "## Create a movetk point\n",
    "pt1 = mg.point(np.array([1,2]))"
   ]
  },
  {
   "cell_type": "code",
   "execution_count": 20,
   "metadata": {},
   "outputs": [
    {
     "output_type": "execute_result",
     "data": {
      "text/plain": "&lt;movetk_geometry.point at 0x10f4a1f10&gt;"
     },
     "metadata": {},
     "execution_count": 20
    }
   ],
   "source": [
    "pt1"
   ]
  },
  {
   "cell_type": "code",
   "execution_count": 10,
   "metadata": {},
   "outputs": [],
   "source": [
    "pt2 = mg.point(np.array([1,3]))"
   ]
  },
  {
   "cell_type": "code",
   "execution_count": 22,
   "metadata": {
    "tags": []
   },
   "outputs": [
    {
     "output_type": "stream",
     "name": "stdout",
     "text": "1.0,2.0\n"
    }
   ],
   "source": [
    "print(str(pt1[0]) + \",\" + str(pt1[1]))"
   ]
  },
  {
   "cell_type": "code",
   "execution_count": 23,
   "metadata": {
    "tags": []
   },
   "outputs": [
    {
     "output_type": "stream",
     "name": "stdout",
     "text": "Help on class segment in module movetk_geometry:\n\nclass segment(pybind11_builtins.pybind11_object)\n |  Method resolution order:\n |      segment\n |      pybind11_builtins.pybind11_object\n |      __builtin__.object\n |  \n |  Methods defined here:\n |  \n |  __getitem__(...)\n |      __getitem__(self: movetk_geometry.segment, arg0: int) -&gt; movetk_geometry.point\n |  \n |  __init__(...)\n |      __init__(self: movetk_geometry.segment, arg0: movetk_geometry.point, arg1: movetk_geometry.point) -&gt; None\n |  \n |  ----------------------------------------------------------------------\n |  Data and other attributes defined here:\n |  \n |  __qualname__ = &#39;segment&#39;\n |  \n |  ----------------------------------------------------------------------\n |  Data and other attributes inherited from pybind11_builtins.pybind11_object:\n |  \n |  __new__ = &lt;built-in method __new__ of pybind11_type object&gt;\n |      T.__new__(S, ...) -&gt; a new object with type S, a subtype of T\n\n"
    }
   ],
   "source": [
    "help(mg.segment)"
   ]
  },
  {
   "cell_type": "code",
   "execution_count": 14,
   "metadata": {},
   "outputs": [],
   "source": [
    "seg = mg.segment(pt1, pt2)"
   ]
  },
  {
   "cell_type": "code",
   "execution_count": 15,
   "metadata": {},
   "outputs": [
    {
     "output_type": "execute_result",
     "data": {
      "text/plain": "&lt;movetk_geometry.segment at 0x10f4bc5a8&gt;"
     },
     "metadata": {},
     "execution_count": 15
    }
   ],
   "source": [
    "seg"
   ]
  },
  {
   "cell_type": "code",
   "execution_count": 32,
   "metadata": {
    "tags": []
   },
   "outputs": [
    {
     "output_type": "stream",
     "name": "stdout",
     "text": "1.0,2.0\n"
    }
   ],
   "source": [
    "print(str(seg[0][0]) + \",\" + str(seg[0][1]))"
   ]
  },
  {
   "cell_type": "code",
   "execution_count": 33,
   "metadata": {
    "tags": []
   },
   "outputs": [
    {
     "output_type": "stream",
     "name": "stdout",
     "text": "1.0,3.0\n"
    }
   ],
   "source": [
    "print(str(seg[1][0]) + \",\" + str(seg[1][1]))"
   ]
  }
 ]
}