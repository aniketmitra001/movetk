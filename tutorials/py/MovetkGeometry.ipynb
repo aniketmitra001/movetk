{
 "metadata": {
  "language_info": {
   "codemirror_mode": {
    "name": "ipython",
    "version": 3
   },
   "file_extension": ".py",
   "mimetype": "text/x-python",
   "name": "python",
   "nbconvert_exporter": "python",
   "pygments_lexer": "ipython3",
   "version": "2.7.15-final"
  },
  "orig_nbformat": 2,
  "kernelspec": {
   "name": "Python 2.7.15 64-bit ('base': conda)",
   "display_name": "Python 2.7.15 64-bit ('base': conda)",
   "metadata": {
    "interpreter": {
     "hash": "98e7af060e033022c1fb57414f219ac79190d8f1896df61e957542096e3a4766"
    }
   }
  }
 },
 "nbformat": 4,
 "nbformat_minor": 2,
 "cells": [
  {
   "cell_type": "code",
   "execution_count": 1,
   "metadata": {},
   "outputs": [],
   "source": [
    "import sys"
   ]
  },
  {
   "cell_type": "code",
   "execution_count": 2,
   "metadata": {},
   "outputs": [],
   "source": [
    "# Substitute the path with correct path where movetk_geometry.so is installed\n",
    "# sys.path.append('~/local/lib')\n",
    "sys.path.append('/Users/amitra/local/lib')"
   ]
  },
  {
   "cell_type": "code",
   "execution_count": 3,
   "metadata": {
    "tags": []
   },
   "outputs": [],
   "source": [
    "# print(sys.path)"
   ]
  },
  {
   "cell_type": "code",
   "execution_count": 4,
   "metadata": {},
   "outputs": [],
   "source": [
    "import numpy as np"
   ]
  },
  {
   "source": [
    "# Import geometry module of MoveTK"
   ],
   "cell_type": "markdown",
   "metadata": {}
  },
  {
   "cell_type": "code",
   "execution_count": 5,
   "metadata": {},
   "outputs": [],
   "source": [
    "import movetk_geometry as mg"
   ]
  },
  {
   "source": [
    "# Create a point"
   ],
   "cell_type": "markdown",
   "metadata": {}
  },
  {
   "cell_type": "code",
   "execution_count": 6,
   "metadata": {
    "tags": []
   },
   "outputs": [
    {
     "output_type": "stream",
     "name": "stdout",
     "text": "Help on class point in module movetk_geometry:\n\nclass point(pybind11_builtins.pybind11_object)\n |  Method resolution order:\n |      point\n |      pybind11_builtins.pybind11_object\n |      __builtin__.object\n |  \n |  Methods defined here:\n |  \n |  __getitem__(...)\n |      __getitem__(self: movetk_geometry.point, arg0: int) -&gt; float\n |  \n |  __init__(...)\n |      __init__(self: movetk_geometry.point, arg0: numpy.ndarray[longdouble]) -&gt; None\n |  \n |  __len__(...)\n |      __len__(self: movetk_geometry.point) -&gt; int\n |  \n |  __plus__(...)\n |      __plus__(self: movetk_geometry.point, arg0: movetk_support::Wrapper_Boost_Vector&lt;movetk_support::Wrapper_Boost_Kernel&lt;movetk_support::BoostGeometryTraits&lt;long double, 2ul&gt; &gt; &gt;) -&gt; movetk_geometry.point\n |  \n |  __sub__(...)\n |      __sub__(self: movetk_geometry.point, arg0: movetk_geometry.point) -&gt; movetk_support::Wrapper_Boost_Vector&lt;movetk_support::Wrapper_Boost_Kernel&lt;movetk_support::BoostGeometryTraits&lt;long double, 2ul&gt; &gt; &gt;\n |  \n |  ----------------------------------------------------------------------\n |  Data and other attributes defined here:\n |  \n |  __qualname__ = &#39;point&#39;\n |  \n |  ----------------------------------------------------------------------\n |  Data and other attributes inherited from pybind11_builtins.pybind11_object:\n |  \n |  __new__ = &lt;built-in method __new__ of pybind11_type object&gt;\n |      T.__new__(S, ...) -&gt; a new object with type S, a subtype of T\n\n"
    }
   ],
   "source": [
    "help(mg.point)"
   ]
  },
  {
   "cell_type": "code",
   "execution_count": 7,
   "metadata": {
    "tags": []
   },
   "outputs": [
    {
     "output_type": "stream",
     "name": "stdout",
     "text": "2\n1.0,1.0\n"
    }
   ],
   "source": [
    "pt1 = mg.point(np.array([1,1]))\n",
    "print(len(pt1))\n",
    "print(str(pt1[0]) + \",\" + str(pt1[1]))"
   ]
  },
  {
   "source": [
    "# Create a segment"
   ],
   "cell_type": "markdown",
   "metadata": {}
  },
  {
   "cell_type": "code",
   "execution_count": 8,
   "metadata": {
    "tags": []
   },
   "outputs": [
    {
     "output_type": "stream",
     "name": "stdout",
     "text": "Help on class segment in module movetk_geometry:\n\nclass segment(pybind11_builtins.pybind11_object)\n |  Method resolution order:\n |      segment\n |      pybind11_builtins.pybind11_object\n |      __builtin__.object\n |  \n |  Methods defined here:\n |  \n |  __getitem__(...)\n |      __getitem__(self: movetk_geometry.segment, arg0: int) -&gt; movetk_geometry.point\n |  \n |  __init__(...)\n |      __init__(self: movetk_geometry.segment, arg0: movetk_geometry.point, arg1: movetk_geometry.point) -&gt; None\n |  \n |  distance(...)\n |      distance(self: movetk_geometry.segment, arg0: movetk_geometry.point) -&gt; float\n |  \n |  length(...)\n |      length(self: movetk_geometry.segment) -&gt; float\n |  \n |  ----------------------------------------------------------------------\n |  Data and other attributes defined here:\n |  \n |  __qualname__ = &#39;segment&#39;\n |  \n |  ----------------------------------------------------------------------\n |  Data and other attributes inherited from pybind11_builtins.pybind11_object:\n |  \n |  __new__ = &lt;built-in method __new__ of pybind11_type object&gt;\n |      T.__new__(S, ...) -&gt; a new object with type S, a subtype of T\n\n"
    }
   ],
   "source": [
    "help(mg.segment)"
   ]
  },
  {
   "cell_type": "code",
   "execution_count": 23,
   "metadata": {
    "tags": []
   },
   "outputs": [
    {
     "output_type": "stream",
     "name": "stdout",
     "text": "1.41421356237\n1.0,1.0\n1.41421356237\n"
    }
   ],
   "source": [
    "pt1 = mg.point(np.array([1,1]))\n",
    "pt2 = mg.point(np.array([2,2]))\n",
    "origin = mg.point(np.array([0,0]))\n",
    "seg = mg.segment(pt1, pt2)\n",
    "print(seg.length())\n",
    "print(str(seg[0][0]) + \",\" + str(seg[0][1]))\n",
    "print(seg.distance(origin))"
   ]
  },
  {
   "source": [
    "# Create a point set"
   ],
   "cell_type": "markdown",
   "metadata": {}
  },
  {
   "cell_type": "code",
   "execution_count": 10,
   "metadata": {
    "tags": []
   },
   "outputs": [
    {
     "output_type": "stream",
     "name": "stdout",
     "text": "Help on class points in module movetk_geometry:\n\nclass points(pybind11_builtins.pybind11_object)\n |  Method resolution order:\n |      points\n |      pybind11_builtins.pybind11_object\n |      __builtin__.object\n |  \n |  Methods defined here:\n |  \n |  __init__(...)\n |      __init__(self: movetk_geometry.points) -&gt; None\n |  \n |  __iter__(...)\n |      __iter__(self: movetk_geometry.points) -&gt; iterator\n |  \n |  __len__(...)\n |      __len__(self: movetk_geometry.points) -&gt; int\n |  \n |  push_back(...)\n |      push_back(self: movetk_geometry.points, arg0: movetk_geometry.point) -&gt; None\n |  \n |  ----------------------------------------------------------------------\n |  Data and other attributes defined here:\n |  \n |  __qualname__ = &#39;points&#39;\n |  \n |  ----------------------------------------------------------------------\n |  Data and other attributes inherited from pybind11_builtins.pybind11_object:\n |  \n |  __new__ = &lt;built-in method __new__ of pybind11_type object&gt;\n |      T.__new__(S, ...) -&gt; a new object with type S, a subtype of T\n\n"
    }
   ],
   "source": [
    "help(mg.points)"
   ]
  },
  {
   "cell_type": "code",
   "execution_count": 11,
   "metadata": {
    "tags": []
   },
   "outputs": [
    {
     "output_type": "stream",
     "name": "stdout",
     "text": "3\n1.0,1.0\n2.0,2.0\n3.0,3.0\n"
    }
   ],
   "source": [
    "pt1 = mg.point(np.array([1,1]))\n",
    "pt2 = mg.point(np.array([2,2]))\n",
    "pt3 = mg.point(np.array([3,3]))\n",
    "points = mg.points()\n",
    "points.push_back(pt1)\n",
    "points.push_back(pt2)\n",
    "points.push_back(pt3)\n",
    "print(len(points))\n",
    "for point in points:\n",
    "    print(str(point[0]) + \",\" + str(point[1]))\n"
   ]
  },
  {
   "source": [
    "# Create a polygon"
   ],
   "cell_type": "markdown",
   "metadata": {}
  },
  {
   "cell_type": "code",
   "execution_count": 12,
   "metadata": {
    "tags": []
   },
   "outputs": [
    {
     "output_type": "stream",
     "name": "stdout",
     "text": "Help on class polygon in module movetk_geometry:\n\nclass polygon(pybind11_builtins.pybind11_object)\n |  Method resolution order:\n |      polygon\n |      pybind11_builtins.pybind11_object\n |      __builtin__.object\n |  \n |  Methods defined here:\n |  \n |  __getitem__(...)\n |      __getitem__(self: movetk_geometry.polygon, arg0: int) -&gt; movetk_geometry.point\n |  \n |  __init__(...)\n |      __init__(*args, **kwargs)\n |      Overloaded function.\n |      \n |      1. __init__(self: movetk_geometry.polygon) -&gt; None\n |      \n |      2. __init__(self: movetk_geometry.polygon, arg0: movetk_geometry.points) -&gt; None\n |  \n |  num_vertices(...)\n |      num_vertices(self: movetk_geometry.polygon) -&gt; int\n |  \n |  ----------------------------------------------------------------------\n |  Data and other attributes defined here:\n |  \n |  __qualname__ = &#39;polygon&#39;\n |  \n |  ----------------------------------------------------------------------\n |  Data and other attributes inherited from pybind11_builtins.pybind11_object:\n |  \n |  __new__ = &lt;built-in method __new__ of pybind11_type object&gt;\n |      T.__new__(S, ...) -&gt; a new object with type S, a subtype of T\n\n"
    }
   ],
   "source": [
    "help(mg.polygon)"
   ]
  },
  {
   "cell_type": "code",
   "execution_count": 13,
   "metadata": {
    "tags": []
   },
   "outputs": [
    {
     "output_type": "stream",
     "name": "stdout",
     "text": "3\n"
    }
   ],
   "source": [
    "poly = mg.polygon(points)\n",
    "print(poly.num_vertices())"
   ]
  },
  {
   "source": [
    "# Create a smallest enclosing disk"
   ],
   "cell_type": "markdown",
   "metadata": {}
  },
  {
   "cell_type": "code",
   "execution_count": 14,
   "metadata": {
    "tags": []
   },
   "outputs": [
    {
     "output_type": "stream",
     "name": "stdout",
     "text": "Help on class sphere in module movetk_geometry:\n\nclass sphere(pybind11_builtins.pybind11_object)\n |  Method resolution order:\n |      sphere\n |      pybind11_builtins.pybind11_object\n |      __builtin__.object\n |  \n |  Methods defined here:\n |  \n |  __init__(...)\n |      __init__(*args, **kwargs)\n |      Overloaded function.\n |      \n |      1. __init__(self: movetk_geometry.sphere) -&gt; None\n |      \n |      2. __init__(self: movetk_geometry.sphere, arg0: movetk_geometry.point, arg1: float) -&gt; None\n |  \n |  center(...)\n |      center(self: movetk_geometry.sphere) -&gt; movetk_geometry.point\n |  \n |  min_sphere(...)\n |      min_sphere(self: movetk_geometry.sphere, arg0: movetk_geometry.points) -&gt; movetk_geometry.sphere\n |  \n |  radius(...)\n |      radius(self: movetk_geometry.sphere) -&gt; float\n |  \n |  ----------------------------------------------------------------------\n |  Data and other attributes defined here:\n |  \n |  __qualname__ = &#39;sphere&#39;\n |  \n |  ----------------------------------------------------------------------\n |  Data and other attributes inherited from pybind11_builtins.pybind11_object:\n |  \n |  __new__ = &lt;built-in method __new__ of pybind11_type object&gt;\n |      T.__new__(S, ...) -&gt; a new object with type S, a subtype of T\n\n"
    }
   ],
   "source": [
    "help(mg.sphere)"
   ]
  },
  {
   "cell_type": "code",
   "execution_count": 15,
   "metadata": {
    "tags": []
   },
   "outputs": [
    {
     "output_type": "stream",
     "name": "stdout",
     "text": "1.41421356237\n2.0,2.0\n"
    }
   ],
   "source": [
    "sph = mg.sphere()\n",
    "min_sphere = sph.min_sphere(points)\n",
    "print(min_sphere.radius())\n",
    "centre = min_sphere.center()\n",
    "print(str(centre[0]) + ',' + str(centre[1]))"
   ]
  },
  {
   "source": [
    "# Create a vector"
   ],
   "cell_type": "markdown",
   "metadata": {}
  },
  {
   "cell_type": "code",
   "execution_count": 16,
   "metadata": {
    "tags": []
   },
   "outputs": [
    {
     "output_type": "stream",
     "name": "stdout",
     "text": "Help on class vector in module movetk_geometry:\n\nclass vector(pybind11_builtins.pybind11_object)\n |  Method resolution order:\n |      vector\n |      pybind11_builtins.pybind11_object\n |      __builtin__.object\n |  \n |  Methods defined here:\n |  \n |  __imul__(...)\n |      __imul__(self: movetk_geometry.vector, arg0: float) -&gt; movetk_geometry.vector\n |  \n |  __init__(...)\n |      __init__(self: movetk_geometry.vector) -&gt; None\n |  \n |  __mul__(...)\n |      __mul__(self: movetk_geometry.vector, arg0: movetk_geometry.vector) -&gt; float\n |  \n |  norm(...)\n |      norm(self: movetk_geometry.vector) -&gt; float\n |  \n |  ----------------------------------------------------------------------\n |  Data and other attributes defined here:\n |  \n |  __qualname__ = &#39;vector&#39;\n |  \n |  ----------------------------------------------------------------------\n |  Data and other attributes inherited from pybind11_builtins.pybind11_object:\n |  \n |  __new__ = &lt;built-in method __new__ of pybind11_type object&gt;\n |      T.__new__(S, ...) -&gt; a new object with type S, a subtype of T\n\n"
    }
   ],
   "source": [
    "help(mg.vector)"
   ]
  },
  {
   "cell_type": "code",
   "execution_count": 17,
   "metadata": {
    "tags": []
   },
   "outputs": [
    {
     "output_type": "stream",
     "name": "stdout",
     "text": "1.0,1.0\n"
    }
   ],
   "source": [
    "pt1 = mg.point(np.array([1,1]))\n",
    "pt2 = mg.point(np.array([2,2]))\n",
    "v = pt2 - pt1\n",
    "x = mg.point(np.array([1,0]))\n",
    "y = mg.point(np.array([0,1]))\n",
    "origin = mg.point(np.array([0,0]))\n",
    "basis_x = x - origin\n",
    "basis_y = y - origin\n",
    "print(str(v * basis_x) + \",\" + str(v * basis_y))"
   ]
  },
  {
   "source": [
    "# Scaling"
   ],
   "cell_type": "markdown",
   "metadata": {}
  },
  {
   "cell_type": "code",
   "execution_count": 18,
   "metadata": {
    "tags": []
   },
   "outputs": [
    {
     "output_type": "stream",
     "name": "stdout",
     "text": "1.5,1.5\n"
    }
   ],
   "source": [
    "v *= 1.5\n",
    "print(str(v * basis_x) + \",\" + str(v * basis_y))"
   ]
  },
  {
   "source": [
    "# Norm"
   ],
   "cell_type": "markdown",
   "metadata": {}
  },
  {
   "cell_type": "code",
   "execution_count": 20,
   "metadata": {
    "tags": []
   },
   "outputs": [
    {
     "output_type": "stream",
     "name": "stdout",
     "text": "2.12132034356\n"
    }
   ],
   "source": [
    "print(v.norm())"
   ]
  },
  {
   "source": [
    "# Translation"
   ],
   "cell_type": "markdown",
   "metadata": {}
  },
  {
   "cell_type": "code",
   "execution_count": 19,
   "metadata": {},
   "outputs": [
    {
     "output_type": "error",
     "ename": "TypeError",
     "evalue": "unsupported operand type(s) for +: &#39;movetk_geometry.point&#39; and &#39;movetk_geometry.vector&#39;",
     "traceback": [
      "\u001b[0;31m\u001b[0m",
      "\u001b[0;31mTypeError\u001b[0mTraceback (most recent call last)",
      "\u001b[0;32m&lt;ipython-input-19-d9c0b85a3e82&gt;\u001b[0m in \u001b[0;36m&lt;module&gt;\u001b[0;34m()\u001b[0m\n\u001b[0;32m----&gt; 1\u001b[0;31m \u001b[0mpt\u001b[0m \u001b[0;34m=\u001b[0m \u001b[0morigin\u001b[0m \u001b[0;34m+\u001b[0m \u001b[0mv\u001b[0m\u001b[0;34m\u001b[0m\u001b[0m\n\u001b[0m",
      "\u001b[0;31mTypeError\u001b[0m: unsupported operand type(s) for +: &#39;movetk_geometry.point&#39; and &#39;movetk_geometry.vector&#39;"
     ]
    }
   ],
   "source": [
    "pt = origin + v"
   ]
  },
  {
   "source": [
    "# Create a wedge"
   ],
   "cell_type": "markdown",
   "metadata": {}
  },
  {
   "cell_type": "code",
   "execution_count": 17,
   "metadata": {
    "tags": []
   },
   "outputs": [
    {
     "output_type": "stream",
     "name": "stdout",
     "text": "Help on class wedge in module movetk_geometry:\n\nclass wedge(pybind11_builtins.pybind11_object)\n |  Method resolution order:\n |      wedge\n |      pybind11_builtins.pybind11_object\n |      __builtin__.object\n |  \n |  Methods defined here:\n |  \n |  __init__(...)\n |      __init__(self: movetk_geometry.wedge, arg0: movetk_geometry.point, arg1: movetk_geometry.point, arg2: float) -&gt; None\n |  \n |  intercept(...)\n |      intercept(self: movetk_geometry.wedge) -&gt; movetk_geometry.vector\n |  \n |  slope(...)\n |      slope(self: movetk_geometry.wedge) -&gt; movetk_geometry.vector\n |  \n |  ----------------------------------------------------------------------\n |  Data and other attributes defined here:\n |  \n |  __qualname__ = &#39;wedge&#39;\n |  \n |  ----------------------------------------------------------------------\n |  Data and other attributes inherited from pybind11_builtins.pybind11_object:\n |  \n |  __new__ = &lt;built-in method __new__ of pybind11_type object&gt;\n |      T.__new__(S, ...) -&gt; a new object with type S, a subtype of T\n\n"
    }
   ],
   "source": [
    "help(mg.wedge)"
   ]
  },
  {
   "cell_type": "code",
   "execution_count": 18,
   "metadata": {
    "tags": []
   },
   "outputs": [
    {
     "output_type": "stream",
     "name": "stdout",
     "text": "0.206284248891,-0.206284248891\n3.82513699556,2.17486300444\n"
    }
   ],
   "source": [
    "pt = mg.point(np.array([-4,3]))\n",
    "center = mg.point(np.array([3,3]))\n",
    "x = mg.point(np.array([1,0]))\n",
    "y = mg.point(np.array([0,1]))\n",
    "origin = mg.point(np.array([0,0]))\n",
    "basis_x = x - origin\n",
    "basis_y = y - origin\n",
    "wedge = mg.wedge(pt,center, 1.41421356)\n",
    "slope = wedge.slope()\n",
    "print( str(slope * basis_x) + \",\" + str(slope * basis_y) )\n",
    "intercept = wedge.intercept()\n",
    "print(str(intercept * basis_x) + \",\" + str(intercept * basis_y))"
   ]
  }
 ]
}